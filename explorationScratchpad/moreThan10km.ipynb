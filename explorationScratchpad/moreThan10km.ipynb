{
 "cells": [
  {
   "cell_type": "code",
   "execution_count": 1,
   "metadata": {},
   "outputs": [],
   "source": [
    "import pandas\n",
    "import json\n",
    "import datetime"
   ]
  },
  {
   "cell_type": "code",
   "execution_count": 5,
   "metadata": {
    "scrolled": true
   },
   "outputs": [],
   "source": [
    "jData = json.load(open(\"mainJSON.json\")) #import the json file with the running data\n",
    "df = pandas.DataFrame(jData, columns=[\"user_id\", \"start\", \"distance\"])\n",
    "df[\"reformattedStart\"] = pandas.to_datetime(df[\"start\"])\n",
    "df[\"dayOfWeekStart\"] = pandas.Series(df[\"reformattedStart\"]).dt.dayofweek\n",
    "df[\"weekStartingOn\"] = (df[\"reformattedStart\"]-pandas.to_timedelta(df[\"dayOfWeekStart\"], unit=\"d\")).dt.strftime(\"%m/%d/%y\")"
   ]
  },
  {
   "cell_type": "code",
   "execution_count": 6,
   "metadata": {},
   "outputs": [],
   "source": [
    "# df.groupby([\"user_id\", \"weekStartingOn\"]).sum()\n",
    "df = df.loc[df[\"user_id\"] ==\"d77908482ed2505ebbf17ef72be2f080\"]\n",
    "table = df.pivot_table(values=\"distance\", index=[\"user_id\",\"weekStartingOn\"], aggfunc=\"sum\")"
   ]
  },
  {
   "cell_type": "code",
   "execution_count": 7,
   "metadata": {},
   "outputs": [
    {
     "data": {
      "text/plain": [
       "10"
      ]
     },
     "execution_count": 7,
     "metadata": {},
     "output_type": "execute_result"
    }
   ],
   "source": [
    "testV = table[table.distance > 10].count()\n",
    "int(testV)"
   ]
  },
  {
   "cell_type": "code",
   "execution_count": null,
   "metadata": {},
   "outputs": [],
   "source": []
  }
 ],
 "metadata": {
  "kernelspec": {
   "display_name": "Python 3",
   "language": "python",
   "name": "python3"
  },
  "language_info": {
   "codemirror_mode": {
    "name": "ipython",
    "version": 3
   },
   "file_extension": ".py",
   "mimetype": "text/x-python",
   "name": "python",
   "nbconvert_exporter": "python",
   "pygments_lexer": "ipython3",
   "version": "3.7.0"
  }
 },
 "nbformat": 4,
 "nbformat_minor": 2
}
