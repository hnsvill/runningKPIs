{
 "cells": [
  {
   "cell_type": "code",
   "execution_count": 1,
   "metadata": {},
   "outputs": [],
   "source": [
    "import pandas\n",
    "import json\n",
    "from datetime import timedelta"
   ]
  },
  {
   "cell_type": "code",
   "execution_count": 2,
   "metadata": {
    "scrolled": true
   },
   "outputs": [],
   "source": [
    "# Load json into dataframe and format\n",
    "jData = json.load(open(\"mainJSON.json\")) #import the json file with the running data\n",
    "df = pandas.DataFrame(jData, columns=[\"user_id\", \"start\", \"distance\"]) #only import the needed columns\n",
    "df[\"reformattedStart\"] = pandas.to_datetime(df[\"start\"]) #convert start date to date. Assume the start date/time is when the run counts toward a certain day.\n",
    "df[\"date\"] = df[\"reformattedStart\"].dt.date #drop time, keep date only"
   ]
  },
  {
   "cell_type": "code",
   "execution_count": 3,
   "metadata": {},
   "outputs": [],
   "source": [
    "# narrow down to only runs that were logged by the specified user and longer than 1km.\n",
    "df = df.loc[df[\"user_id\"] ==\"d77908482ed2505ebbf17ef72be2f080\"]\n",
    "df = df.loc[df[\"distance\"] > 1]\n",
    "# drop the uneeded columns, and remove the duplicates\n",
    "df = df.drop(columns=[\"start\", \"reformattedStart\", \"user_id\", \"distance\"]) #drop the unneeded columns\n",
    "df = df.drop_duplicates()\n",
    "df = df.sort_values(by=\"date\", ascending=True)\n",
    "# df = df.reset_index(drop=True)\n",
    "\n",
    "#this leaves us with a sorted list of unique dates that the user went for at least one run that was >1km\n",
    "streakDates = df[\"date\"].tolist()"
   ]
  },
  {
   "cell_type": "code",
   "execution_count": 4,
   "metadata": {},
   "outputs": [
    {
     "data": {
      "text/plain": [
       "7"
      ]
     },
     "execution_count": 4,
     "metadata": {},
     "output_type": "execute_result"
    }
   ],
   "source": [
    "streakSizes = [] #array to keep the length of running streaks\n",
    "numDaysInCurrentStreak = 1 #start the counter at one to count the current day being tested in the streak\n",
    "\n",
    "for i in range(len(streakDates)-1):  #this loop cmpares the current item with the next item, and will throw an error if you try to call a non-existent item\n",
    "    if streakDates[i+1] - timedelta(days=1) == streakDates[i]:  #if the next date is only one day ahead of the current item\n",
    "        numDaysInCurrentStreak = numDaysInCurrentStreak + 1\n",
    "    elif streakDates[i+1] - timedelta(days=1) != streakDates[i]:  #if the next date is more than one day ahead of the current item\n",
    "        streakSizes.append(numDaysInCurrentStreak) #append the current value to the streakSizes array\n",
    "        numDaysInCurrentStreak = 1 #reset the counter\n",
    "\n",
    "sum([int(streak/3) for streak in streakSizes if streak >= 3]) #3 could be changed into an argument to find streaks of different lengths"
   ]
  }
 ],
 "metadata": {
  "kernelspec": {
   "display_name": "Python 3",
   "language": "python",
   "name": "python3"
  },
  "language_info": {
   "codemirror_mode": {
    "name": "ipython",
    "version": 3
   },
   "file_extension": ".py",
   "mimetype": "text/x-python",
   "name": "python",
   "nbconvert_exporter": "python",
   "pygments_lexer": "ipython3",
   "version": "3.7.0"
  }
 },
 "nbformat": 4,
 "nbformat_minor": 2
}
