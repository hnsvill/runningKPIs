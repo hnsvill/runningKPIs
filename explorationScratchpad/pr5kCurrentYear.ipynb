{
 "cells": [
  {
   "cell_type": "code",
   "execution_count": 1,
   "metadata": {},
   "outputs": [],
   "source": [
    "import pandas\n",
    "import json\n",
    "from datetime import timedelta"
   ]
  },
  {
   "cell_type": "code",
   "execution_count": 2,
   "metadata": {
    "scrolled": true
   },
   "outputs": [],
   "source": [
    "# Load json into dataframe and format\n",
    "jData = json.load(open(\"mainJSON.json\")) #import the json file with the running data\n",
    "df = pandas.DataFrame(jData, columns=[\"user_id\", \"start\", \"distance\", \"pace\"]) #only import the needed columns\n",
    "df[\"date\"] = pandas.to_datetime(df[\"start\"]) #convert start date to date.\n",
    "#Assume the start date/time is when the run counts toward a certain day.\n",
    "df[\"month\"] = df[\"date\"].dt.month #get the months separated to group by later"
   ]
  },
  {
   "cell_type": "code",
   "execution_count": 3,
   "metadata": {},
   "outputs": [],
   "source": [
    "# narrow down to only runs that were logged by the specified user and longer than 5km. Sort the dataframe.\n",
    "df = df.loc[df[\"user_id\"] ==\"72eff89c74cc57178e02f103187ad579\"]\n",
    "df = df.loc[df[\"distance\"] > 5]\n",
    "df = df.sort_values(by=\"date\", ascending=True)"
   ]
  },
  {
   "cell_type": "code",
   "execution_count": 4,
   "metadata": {},
   "outputs": [
    {
     "data": {
      "text/plain": [
       "7.24"
      ]
     },
     "execution_count": 4,
     "metadata": {},
     "output_type": "execute_result"
    }
   ],
   "source": [
    "# get last year's PR\n",
    "prevYearDf = df.loc[df[\"date\"].dt.year == (pandas.to_datetime(\"today\") - timedelta(days=365)).year]\n",
    "prevYearMaxPace = round(prevYearDf[\"pace\"].max(), 2)\n",
    "if pandas.isnull(prevYearMaxPace):\n",
    "    prevYearMaxPace = 0\n",
    "prevYearMaxPace"
   ]
  },
  {
   "cell_type": "code",
   "execution_count": 5,
   "metadata": {},
   "outputs": [],
   "source": [
    "# Return list of monthly PR's for the current year\n",
    "df = df.loc[df[\"date\"].dt.year == pandas.to_datetime(\"today\").year]\n",
    "temp = df.groupby(\"month\").max().add_prefix(\"max_\")\n",
    "paceArr = temp[\"max_pace\"].tolist()\n",
    "paceArr = [round(num, 2) for num in paceArr] #round to the second decimal.\n",
    "#Rounding keeps the user from displaying they PR'd when they only beat the last pace by .0000005"
   ]
  },
  {
   "cell_type": "code",
   "execution_count": 6,
   "metadata": {},
   "outputs": [
    {
     "data": {
      "text/plain": [
       "1"
      ]
     },
     "execution_count": 6,
     "metadata": {},
     "output_type": "execute_result"
    }
   ],
   "source": [
    "# Loop through the current year's PR's to count how many were made, somewhat similar to bubblesort\n",
    "\n",
    "currentMax = prevYearMaxPace\n",
    "timesPRd = 0\n",
    "\n",
    "for pace in paceArr:\n",
    "    if pace > currentMax:\n",
    "        timesPRd = timesPRd + 1\n",
    "        \n",
    "timesPRd"
   ]
  },
  {
   "cell_type": "code",
   "execution_count": null,
   "metadata": {},
   "outputs": [],
   "source": []
  }
 ],
 "metadata": {
  "kernelspec": {
   "display_name": "Python 3",
   "language": "python",
   "name": "python3"
  },
  "language_info": {
   "codemirror_mode": {
    "name": "ipython",
    "version": 3
   },
   "file_extension": ".py",
   "mimetype": "text/x-python",
   "name": "python",
   "nbconvert_exporter": "python",
   "pygments_lexer": "ipython3",
   "version": "3.7.0"
  }
 },
 "nbformat": 4,
 "nbformat_minor": 2
}
